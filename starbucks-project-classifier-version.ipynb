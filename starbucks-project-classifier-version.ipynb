{
 "cells": [
  {
   "cell_type": "code",
   "execution_count": 65,
   "id": "d8d5aff7",
   "metadata": {},
   "outputs": [],
   "source": [
    "import pandas as pd\n",
    "import numpy as np\n",
    "import json\n",
    "\n",
    "from sklearn.cluster import KMeans\n",
    "from sklearn.model_selection import train_test_split\n",
    "from sklearn.ensemble import RandomForestClassifier\n",
    "from sklearn.model_selection import GridSearchCV\n",
    "from sklearn.metrics import confusion_matrix\n",
    "from sklearn.metrics import classification_report\n",
    "from sklearn.multioutput import MultiOutputClassifier\n",
    "from sklearn.naive_bayes import MultinomialNB\n",
    "\n",
    "from modules.binomial import BinomialExperiment #My own class for evaluating binomial split tests\n",
    "import modules.cleaning as clean\n",
    "import modules.exploring as ex\n",
    "from modules.classify import score_multioutput\n",
    "\n",
    "import matplotlib.pyplot as plt\n",
    "import matplotlib.ticker as tck\n",
    "\n",
    "# read in the json files\n",
    "offers = pd.read_json('data/portfolio.json', orient='records', lines=True)\n",
    "users = pd.read_json('data/profile.json', orient='records', lines=True)\n",
    "transactions = pd.read_json('data/transcript.json', orient='records', lines=True)"
   ]
  },
  {
   "cell_type": "markdown",
   "id": "431ae8b9",
   "metadata": {},
   "source": [
    "# Purpose\n",
    "\n",
    "Other notebook uses K Means clustering followed by segmentation analysis to come up with groups of Starbucks users most likely to respond to each promotional type.\n",
    "\n",
    "This time, I want to try classifying users individually based on which offer they're most likely to respond to. As new users come it, SBUX could use the model to determine which offer to send a given user.\n",
    "\n",
    "# Method\n",
    "\n",
    "Clean data sets same as last time (using modules.cleaning and modules.exploring).\n",
    "\n",
    "Dummy-encode users_clean, this time (was one-hot for clustering). Since I'm classifying, I'll dummy-encode to avoid multicollinearity.\n",
    "\n",
    "Except, when I get transactions_clean, I'll turn it into a multi-outcome array containing a binary variable for each offer (1 if responded to first contact with offer, 0 if not).\n",
    "\n",
    "# Strategy\n",
    "\n",
    "First tried multioutput classification: categorical demo predictors and multi-outcome array of all offers.\n",
    "\n",
    "Problem with that approach is first receipt response rate of individual offers is super low. Like 20% is typical. So algo gets 90% accuracy easy for the dumb reason: most of training and test sets are non-response 0. Easy to get high accuracy when the dataset is so imbalanced.\n",
    "\n",
    "Second try will see if outcome rate to *any* offers of an *offer type* have high response rates. Instead of 9-output target array, will get a 2-output target array (discount and BOGO)."
   ]
  },
  {
   "cell_type": "markdown",
   "id": "cc64b21e",
   "metadata": {},
   "source": [
    "# Clean Data"
   ]
  },
  {
   "cell_type": "code",
   "execution_count": 2,
   "id": "9c1d862f",
   "metadata": {},
   "outputs": [],
   "source": [
    "users_clean = clean.clean_users(users)\n",
    "transactions_clean = clean.clean_transactions(transactions, offers, users_clean)"
   ]
  },
  {
   "cell_type": "code",
   "execution_count": 3,
   "id": "f8b6caf3",
   "metadata": {},
   "outputs": [
    {
     "data": {
      "text/html": [
       "<div>\n",
       "<style scoped>\n",
       "    .dataframe tbody tr th:only-of-type {\n",
       "        vertical-align: middle;\n",
       "    }\n",
       "\n",
       "    .dataframe tbody tr th {\n",
       "        vertical-align: top;\n",
       "    }\n",
       "\n",
       "    .dataframe thead th {\n",
       "        text-align: right;\n",
       "    }\n",
       "</style>\n",
       "<table border=\"1\" class=\"dataframe\">\n",
       "  <thead>\n",
       "    <tr style=\"text-align: right;\">\n",
       "      <th></th>\n",
       "      <th>gender</th>\n",
       "      <th>id</th>\n",
       "      <th>income_segment</th>\n",
       "      <th>age_segment</th>\n",
       "    </tr>\n",
       "  </thead>\n",
       "  <tbody>\n",
       "    <tr>\n",
       "      <th>0</th>\n",
       "      <td>Unknown</td>\n",
       "      <td>68be06ca386d4c31939f3a4f0e3dd783</td>\n",
       "      <td>Unknown</td>\n",
       "      <td>Unknown</td>\n",
       "    </tr>\n",
       "    <tr>\n",
       "      <th>1</th>\n",
       "      <td>F</td>\n",
       "      <td>0610b486422d4921ae7d2bf64640c50b</td>\n",
       "      <td>Over 80k</td>\n",
       "      <td>41-60</td>\n",
       "    </tr>\n",
       "    <tr>\n",
       "      <th>2</th>\n",
       "      <td>Unknown</td>\n",
       "      <td>38fe809add3b4fcf9315a9694bb96ff5</td>\n",
       "      <td>Unknown</td>\n",
       "      <td>Unknown</td>\n",
       "    </tr>\n",
       "    <tr>\n",
       "      <th>3</th>\n",
       "      <td>F</td>\n",
       "      <td>78afa995795e4d85b5d9ceeca43f5fef</td>\n",
       "      <td>Over 80k</td>\n",
       "      <td>61-80</td>\n",
       "    </tr>\n",
       "    <tr>\n",
       "      <th>4</th>\n",
       "      <td>Unknown</td>\n",
       "      <td>a03223e636434f42ac4c3df47e8bac43</td>\n",
       "      <td>Unknown</td>\n",
       "      <td>Unknown</td>\n",
       "    </tr>\n",
       "  </tbody>\n",
       "</table>\n",
       "</div>"
      ],
      "text/plain": [
       "    gender                                id income_segment age_segment\n",
       "0  Unknown  68be06ca386d4c31939f3a4f0e3dd783        Unknown     Unknown\n",
       "1        F  0610b486422d4921ae7d2bf64640c50b       Over 80k       41-60\n",
       "2  Unknown  38fe809add3b4fcf9315a9694bb96ff5        Unknown     Unknown\n",
       "3        F  78afa995795e4d85b5d9ceeca43f5fef       Over 80k       61-80\n",
       "4  Unknown  a03223e636434f42ac4c3df47e8bac43        Unknown     Unknown"
      ]
     },
     "execution_count": 3,
     "metadata": {},
     "output_type": "execute_result"
    }
   ],
   "source": [
    "users_clean.head()"
   ]
  },
  {
   "cell_type": "code",
   "execution_count": 4,
   "id": "90ff797c",
   "metadata": {},
   "outputs": [
    {
     "data": {
      "text/html": [
       "<div>\n",
       "<style scoped>\n",
       "    .dataframe tbody tr th:only-of-type {\n",
       "        vertical-align: middle;\n",
       "    }\n",
       "\n",
       "    .dataframe tbody tr th {\n",
       "        vertical-align: top;\n",
       "    }\n",
       "\n",
       "    .dataframe thead th {\n",
       "        text-align: right;\n",
       "    }\n",
       "</style>\n",
       "<table border=\"1\" class=\"dataframe\">\n",
       "  <thead>\n",
       "    <tr style=\"text-align: right;\">\n",
       "      <th></th>\n",
       "      <th>person</th>\n",
       "      <th>offer_id</th>\n",
       "      <th>offer_type</th>\n",
       "      <th>offer_response</th>\n",
       "    </tr>\n",
       "  </thead>\n",
       "  <tbody>\n",
       "    <tr>\n",
       "      <th>0</th>\n",
       "      <td>0009655768c64bdeb2e877511632db8f</td>\n",
       "      <td>3f207df678b143eea3cee63160fa8bed</td>\n",
       "      <td>informational</td>\n",
       "      <td>0</td>\n",
       "    </tr>\n",
       "    <tr>\n",
       "      <th>1</th>\n",
       "      <td>0009655768c64bdeb2e877511632db8f</td>\n",
       "      <td>5a8bc65990b245e5a138643cd4eb9837</td>\n",
       "      <td>informational</td>\n",
       "      <td>0</td>\n",
       "    </tr>\n",
       "    <tr>\n",
       "      <th>2</th>\n",
       "      <td>00116118485d4dfda04fdbaba9a87b5c</td>\n",
       "      <td>f19421c1d4aa40978ebb69ca19b0e20d</td>\n",
       "      <td>bogo</td>\n",
       "      <td>0</td>\n",
       "    </tr>\n",
       "    <tr>\n",
       "      <th>3</th>\n",
       "      <td>0020c2b971eb4e9188eac86d93036a77</td>\n",
       "      <td>4d5c57ea9a6940dd891ad53e9dbe8da0</td>\n",
       "      <td>bogo</td>\n",
       "      <td>1</td>\n",
       "    </tr>\n",
       "    <tr>\n",
       "      <th>4</th>\n",
       "      <td>0020c2b971eb4e9188eac86d93036a77</td>\n",
       "      <td>5a8bc65990b245e5a138643cd4eb9837</td>\n",
       "      <td>informational</td>\n",
       "      <td>0</td>\n",
       "    </tr>\n",
       "  </tbody>\n",
       "</table>\n",
       "</div>"
      ],
      "text/plain": [
       "                             person                          offer_id  \\\n",
       "0  0009655768c64bdeb2e877511632db8f  3f207df678b143eea3cee63160fa8bed   \n",
       "1  0009655768c64bdeb2e877511632db8f  5a8bc65990b245e5a138643cd4eb9837   \n",
       "2  00116118485d4dfda04fdbaba9a87b5c  f19421c1d4aa40978ebb69ca19b0e20d   \n",
       "3  0020c2b971eb4e9188eac86d93036a77  4d5c57ea9a6940dd891ad53e9dbe8da0   \n",
       "4  0020c2b971eb4e9188eac86d93036a77  5a8bc65990b245e5a138643cd4eb9837   \n",
       "\n",
       "      offer_type  offer_response  \n",
       "0  informational               0  \n",
       "1  informational               0  \n",
       "2           bogo               0  \n",
       "3           bogo               1  \n",
       "4  informational               0  "
      ]
     },
     "execution_count": 4,
     "metadata": {},
     "output_type": "execute_result"
    }
   ],
   "source": [
    "transactions_clean.head()"
   ]
  },
  {
   "cell_type": "code",
   "execution_count": 5,
   "id": "38099ab3",
   "metadata": {},
   "outputs": [
    {
     "data": {
      "text/html": [
       "<div>\n",
       "<style scoped>\n",
       "    .dataframe tbody tr th:only-of-type {\n",
       "        vertical-align: middle;\n",
       "    }\n",
       "\n",
       "    .dataframe tbody tr th {\n",
       "        vertical-align: top;\n",
       "    }\n",
       "\n",
       "    .dataframe thead th {\n",
       "        text-align: right;\n",
       "    }\n",
       "</style>\n",
       "<table border=\"1\" class=\"dataframe\">\n",
       "  <thead>\n",
       "    <tr style=\"text-align: right;\">\n",
       "      <th></th>\n",
       "      <th>id</th>\n",
       "      <th>gender_M</th>\n",
       "      <th>gender_Unknown</th>\n",
       "      <th>income_segment_Under 50k</th>\n",
       "      <th>income_segment_50k-80k</th>\n",
       "      <th>income_segment_Over 80k</th>\n",
       "      <th>age_segment_25-40</th>\n",
       "      <th>age_segment_41-60</th>\n",
       "      <th>age_segment_61-80</th>\n",
       "      <th>age_segment_81 and Over</th>\n",
       "      <th>age_segment_Unknown</th>\n",
       "    </tr>\n",
       "  </thead>\n",
       "  <tbody>\n",
       "    <tr>\n",
       "      <th>0</th>\n",
       "      <td>68be06ca386d4c31939f3a4f0e3dd783</td>\n",
       "      <td>0</td>\n",
       "      <td>1</td>\n",
       "      <td>0</td>\n",
       "      <td>0</td>\n",
       "      <td>0</td>\n",
       "      <td>0</td>\n",
       "      <td>0</td>\n",
       "      <td>0</td>\n",
       "      <td>0</td>\n",
       "      <td>1</td>\n",
       "    </tr>\n",
       "    <tr>\n",
       "      <th>1</th>\n",
       "      <td>0610b486422d4921ae7d2bf64640c50b</td>\n",
       "      <td>0</td>\n",
       "      <td>0</td>\n",
       "      <td>0</td>\n",
       "      <td>0</td>\n",
       "      <td>1</td>\n",
       "      <td>0</td>\n",
       "      <td>1</td>\n",
       "      <td>0</td>\n",
       "      <td>0</td>\n",
       "      <td>0</td>\n",
       "    </tr>\n",
       "    <tr>\n",
       "      <th>2</th>\n",
       "      <td>38fe809add3b4fcf9315a9694bb96ff5</td>\n",
       "      <td>0</td>\n",
       "      <td>1</td>\n",
       "      <td>0</td>\n",
       "      <td>0</td>\n",
       "      <td>0</td>\n",
       "      <td>0</td>\n",
       "      <td>0</td>\n",
       "      <td>0</td>\n",
       "      <td>0</td>\n",
       "      <td>1</td>\n",
       "    </tr>\n",
       "    <tr>\n",
       "      <th>3</th>\n",
       "      <td>78afa995795e4d85b5d9ceeca43f5fef</td>\n",
       "      <td>0</td>\n",
       "      <td>0</td>\n",
       "      <td>0</td>\n",
       "      <td>0</td>\n",
       "      <td>1</td>\n",
       "      <td>0</td>\n",
       "      <td>0</td>\n",
       "      <td>1</td>\n",
       "      <td>0</td>\n",
       "      <td>0</td>\n",
       "    </tr>\n",
       "    <tr>\n",
       "      <th>4</th>\n",
       "      <td>a03223e636434f42ac4c3df47e8bac43</td>\n",
       "      <td>0</td>\n",
       "      <td>1</td>\n",
       "      <td>0</td>\n",
       "      <td>0</td>\n",
       "      <td>0</td>\n",
       "      <td>0</td>\n",
       "      <td>0</td>\n",
       "      <td>0</td>\n",
       "      <td>0</td>\n",
       "      <td>1</td>\n",
       "    </tr>\n",
       "  </tbody>\n",
       "</table>\n",
       "</div>"
      ],
      "text/plain": [
       "                                 id  gender_M  gender_Unknown  \\\n",
       "0  68be06ca386d4c31939f3a4f0e3dd783         0               1   \n",
       "1  0610b486422d4921ae7d2bf64640c50b         0               0   \n",
       "2  38fe809add3b4fcf9315a9694bb96ff5         0               1   \n",
       "3  78afa995795e4d85b5d9ceeca43f5fef         0               0   \n",
       "4  a03223e636434f42ac4c3df47e8bac43         0               1   \n",
       "\n",
       "   income_segment_Under 50k  income_segment_50k-80k  income_segment_Over 80k  \\\n",
       "0                         0                       0                        0   \n",
       "1                         0                       0                        1   \n",
       "2                         0                       0                        0   \n",
       "3                         0                       0                        1   \n",
       "4                         0                       0                        0   \n",
       "\n",
       "   age_segment_25-40  age_segment_41-60  age_segment_61-80  \\\n",
       "0                  0                  0                  0   \n",
       "1                  0                  1                  0   \n",
       "2                  0                  0                  0   \n",
       "3                  0                  0                  1   \n",
       "4                  0                  0                  0   \n",
       "\n",
       "   age_segment_81 and Over  age_segment_Unknown  \n",
       "0                        0                    1  \n",
       "1                        0                    0  \n",
       "2                        0                    1  \n",
       "3                        0                    0  \n",
       "4                        0                    1  "
      ]
     },
     "execution_count": 5,
     "metadata": {},
     "output_type": "execute_result"
    }
   ],
   "source": [
    "# Get dummies from users_clean\n",
    "users_dummies = pd.get_dummies(users_clean, columns = ['gender','income_segment','age_segment'], drop_first = True)\n",
    "users_dummies.head()"
   ]
  },
  {
   "cell_type": "code",
   "execution_count": 6,
   "id": "67ae5775",
   "metadata": {},
   "outputs": [
    {
     "data": {
      "text/plain": [
       "(16788, 11)"
      ]
     },
     "execution_count": 6,
     "metadata": {},
     "output_type": "execute_result"
    }
   ],
   "source": [
    "users_dummies.shape"
   ]
  },
  {
   "cell_type": "code",
   "execution_count": 7,
   "id": "7f800c02",
   "metadata": {},
   "outputs": [
    {
     "data": {
      "text/plain": [
       "offer_type\n",
       "bogo        0.418462\n",
       "discount    0.488863\n",
       "dtype: float64"
      ]
     },
     "execution_count": 7,
     "metadata": {},
     "output_type": "execute_result"
    }
   ],
   "source": [
    "# Group transactions by person and offer_type, agg by max\n",
    "# Will give me response rate to ANY offer of a type per person\n",
    "# Should give me a more balanced dataset (response rates closer to 50% than 20% I got checking individual offer response rates)\n",
    "transactions_output = transactions_clean.groupby(['person','offer_type'], as_index = False)['offer_response'].agg('max').pivot_table(index = 'person', columns = 'offer_type', values = 'offer_response', fill_value = 0).reset_index(drop = False)\n",
    "transactions_output.drop(columns = 'informational', inplace = True)\n",
    "transactions_output.mean()"
   ]
  },
  {
   "cell_type": "markdown",
   "id": "865d75fe",
   "metadata": {},
   "source": [
    "**Notice:** Aggregated response rates are 41% and 48%. WAY more balanced data set than outcome rates by individual offer. Maybe algo will train better, this way.\n",
    "\n",
    "Response rates here are number of people who responded to first receipt of *any* offer of the listed type."
   ]
  },
  {
   "cell_type": "code",
   "execution_count": 8,
   "id": "31a5eac3",
   "metadata": {},
   "outputs": [
    {
     "data": {
      "text/html": [
       "<div>\n",
       "<style scoped>\n",
       "    .dataframe tbody tr th:only-of-type {\n",
       "        vertical-align: middle;\n",
       "    }\n",
       "\n",
       "    .dataframe tbody tr th {\n",
       "        vertical-align: top;\n",
       "    }\n",
       "\n",
       "    .dataframe thead th {\n",
       "        text-align: right;\n",
       "    }\n",
       "</style>\n",
       "<table border=\"1\" class=\"dataframe\">\n",
       "  <thead>\n",
       "    <tr style=\"text-align: right;\">\n",
       "      <th>offer_type</th>\n",
       "      <th>person</th>\n",
       "      <th>bogo</th>\n",
       "      <th>discount</th>\n",
       "    </tr>\n",
       "  </thead>\n",
       "  <tbody>\n",
       "    <tr>\n",
       "      <th>0</th>\n",
       "      <td>0009655768c64bdeb2e877511632db8f</td>\n",
       "      <td>0</td>\n",
       "      <td>0</td>\n",
       "    </tr>\n",
       "    <tr>\n",
       "      <th>1</th>\n",
       "      <td>00116118485d4dfda04fdbaba9a87b5c</td>\n",
       "      <td>0</td>\n",
       "      <td>0</td>\n",
       "    </tr>\n",
       "    <tr>\n",
       "      <th>2</th>\n",
       "      <td>0020c2b971eb4e9188eac86d93036a77</td>\n",
       "      <td>1</td>\n",
       "      <td>1</td>\n",
       "    </tr>\n",
       "    <tr>\n",
       "      <th>3</th>\n",
       "      <td>0020ccbbb6d84e358d3414a3ff76cffd</td>\n",
       "      <td>1</td>\n",
       "      <td>1</td>\n",
       "    </tr>\n",
       "    <tr>\n",
       "      <th>4</th>\n",
       "      <td>003d66b6608740288d6cc97a6903f4f0</td>\n",
       "      <td>0</td>\n",
       "      <td>1</td>\n",
       "    </tr>\n",
       "  </tbody>\n",
       "</table>\n",
       "</div>"
      ],
      "text/plain": [
       "offer_type                            person  bogo  discount\n",
       "0           0009655768c64bdeb2e877511632db8f     0         0\n",
       "1           00116118485d4dfda04fdbaba9a87b5c     0         0\n",
       "2           0020c2b971eb4e9188eac86d93036a77     1         1\n",
       "3           0020ccbbb6d84e358d3414a3ff76cffd     1         1\n",
       "4           003d66b6608740288d6cc97a6903f4f0     0         1"
      ]
     },
     "execution_count": 8,
     "metadata": {},
     "output_type": "execute_result"
    }
   ],
   "source": [
    "transactions_output.head()"
   ]
  },
  {
   "cell_type": "code",
   "execution_count": 9,
   "id": "3e221ace",
   "metadata": {},
   "outputs": [
    {
     "data": {
      "text/plain": [
       "(16477, 3)"
      ]
     },
     "execution_count": 9,
     "metadata": {},
     "output_type": "execute_result"
    }
   ],
   "source": [
    "transactions_output.shape"
   ]
  },
  {
   "cell_type": "code",
   "execution_count": 10,
   "id": "89dd1d1e",
   "metadata": {},
   "outputs": [],
   "source": [
    "# Filter user data set for IDs appearing in transactions_output \n",
    "# (300 extra people in users, probably those who only completed transaction event)\n",
    "users_dummies = users_dummies.loc[users_dummies.id.isin(transactions_output.person)]"
   ]
  },
  {
   "cell_type": "code",
   "execution_count": 11,
   "id": "df5e7fc8",
   "metadata": {},
   "outputs": [],
   "source": [
    "# Sort both users_dummies and transactions_output by id/person\n",
    "users_dummies = users_dummies.sort_values(by = 'id').reset_index(drop = True)\n",
    "transactions_output = transactions_output.sort_values(by = 'person').reset_index(drop = True)"
   ]
  },
  {
   "cell_type": "code",
   "execution_count": 12,
   "id": "2304aef0",
   "metadata": {},
   "outputs": [
    {
     "data": {
      "text/html": [
       "<div>\n",
       "<style scoped>\n",
       "    .dataframe tbody tr th:only-of-type {\n",
       "        vertical-align: middle;\n",
       "    }\n",
       "\n",
       "    .dataframe tbody tr th {\n",
       "        vertical-align: top;\n",
       "    }\n",
       "\n",
       "    .dataframe thead th {\n",
       "        text-align: right;\n",
       "    }\n",
       "</style>\n",
       "<table border=\"1\" class=\"dataframe\">\n",
       "  <thead>\n",
       "    <tr style=\"text-align: right;\">\n",
       "      <th></th>\n",
       "      <th>id</th>\n",
       "      <th>gender_M</th>\n",
       "      <th>gender_Unknown</th>\n",
       "      <th>income_segment_Under 50k</th>\n",
       "      <th>income_segment_50k-80k</th>\n",
       "      <th>income_segment_Over 80k</th>\n",
       "      <th>age_segment_25-40</th>\n",
       "      <th>age_segment_41-60</th>\n",
       "      <th>age_segment_61-80</th>\n",
       "      <th>age_segment_81 and Over</th>\n",
       "      <th>age_segment_Unknown</th>\n",
       "    </tr>\n",
       "  </thead>\n",
       "  <tbody>\n",
       "    <tr>\n",
       "      <th>0</th>\n",
       "      <td>0009655768c64bdeb2e877511632db8f</td>\n",
       "      <td>1</td>\n",
       "      <td>0</td>\n",
       "      <td>0</td>\n",
       "      <td>1</td>\n",
       "      <td>0</td>\n",
       "      <td>1</td>\n",
       "      <td>0</td>\n",
       "      <td>0</td>\n",
       "      <td>0</td>\n",
       "      <td>0</td>\n",
       "    </tr>\n",
       "    <tr>\n",
       "      <th>1</th>\n",
       "      <td>00116118485d4dfda04fdbaba9a87b5c</td>\n",
       "      <td>0</td>\n",
       "      <td>1</td>\n",
       "      <td>0</td>\n",
       "      <td>0</td>\n",
       "      <td>0</td>\n",
       "      <td>0</td>\n",
       "      <td>0</td>\n",
       "      <td>0</td>\n",
       "      <td>0</td>\n",
       "      <td>1</td>\n",
       "    </tr>\n",
       "    <tr>\n",
       "      <th>2</th>\n",
       "      <td>0020c2b971eb4e9188eac86d93036a77</td>\n",
       "      <td>0</td>\n",
       "      <td>0</td>\n",
       "      <td>0</td>\n",
       "      <td>0</td>\n",
       "      <td>1</td>\n",
       "      <td>0</td>\n",
       "      <td>1</td>\n",
       "      <td>0</td>\n",
       "      <td>0</td>\n",
       "      <td>0</td>\n",
       "    </tr>\n",
       "    <tr>\n",
       "      <th>3</th>\n",
       "      <td>0020ccbbb6d84e358d3414a3ff76cffd</td>\n",
       "      <td>0</td>\n",
       "      <td>0</td>\n",
       "      <td>0</td>\n",
       "      <td>1</td>\n",
       "      <td>0</td>\n",
       "      <td>0</td>\n",
       "      <td>0</td>\n",
       "      <td>0</td>\n",
       "      <td>0</td>\n",
       "      <td>0</td>\n",
       "    </tr>\n",
       "    <tr>\n",
       "      <th>4</th>\n",
       "      <td>003d66b6608740288d6cc97a6903f4f0</td>\n",
       "      <td>0</td>\n",
       "      <td>0</td>\n",
       "      <td>0</td>\n",
       "      <td>1</td>\n",
       "      <td>0</td>\n",
       "      <td>1</td>\n",
       "      <td>0</td>\n",
       "      <td>0</td>\n",
       "      <td>0</td>\n",
       "      <td>0</td>\n",
       "    </tr>\n",
       "  </tbody>\n",
       "</table>\n",
       "</div>"
      ],
      "text/plain": [
       "                                 id  gender_M  gender_Unknown  \\\n",
       "0  0009655768c64bdeb2e877511632db8f         1               0   \n",
       "1  00116118485d4dfda04fdbaba9a87b5c         0               1   \n",
       "2  0020c2b971eb4e9188eac86d93036a77         0               0   \n",
       "3  0020ccbbb6d84e358d3414a3ff76cffd         0               0   \n",
       "4  003d66b6608740288d6cc97a6903f4f0         0               0   \n",
       "\n",
       "   income_segment_Under 50k  income_segment_50k-80k  income_segment_Over 80k  \\\n",
       "0                         0                       1                        0   \n",
       "1                         0                       0                        0   \n",
       "2                         0                       0                        1   \n",
       "3                         0                       1                        0   \n",
       "4                         0                       1                        0   \n",
       "\n",
       "   age_segment_25-40  age_segment_41-60  age_segment_61-80  \\\n",
       "0                  1                  0                  0   \n",
       "1                  0                  0                  0   \n",
       "2                  0                  1                  0   \n",
       "3                  0                  0                  0   \n",
       "4                  1                  0                  0   \n",
       "\n",
       "   age_segment_81 and Over  age_segment_Unknown  \n",
       "0                        0                    0  \n",
       "1                        0                    1  \n",
       "2                        0                    0  \n",
       "3                        0                    0  \n",
       "4                        0                    0  "
      ]
     },
     "execution_count": 12,
     "metadata": {},
     "output_type": "execute_result"
    }
   ],
   "source": [
    "users_dummies.head()"
   ]
  },
  {
   "cell_type": "code",
   "execution_count": 13,
   "id": "d3cbf882",
   "metadata": {},
   "outputs": [
    {
     "data": {
      "text/html": [
       "<div>\n",
       "<style scoped>\n",
       "    .dataframe tbody tr th:only-of-type {\n",
       "        vertical-align: middle;\n",
       "    }\n",
       "\n",
       "    .dataframe tbody tr th {\n",
       "        vertical-align: top;\n",
       "    }\n",
       "\n",
       "    .dataframe thead th {\n",
       "        text-align: right;\n",
       "    }\n",
       "</style>\n",
       "<table border=\"1\" class=\"dataframe\">\n",
       "  <thead>\n",
       "    <tr style=\"text-align: right;\">\n",
       "      <th>offer_type</th>\n",
       "      <th>person</th>\n",
       "      <th>bogo</th>\n",
       "      <th>discount</th>\n",
       "    </tr>\n",
       "  </thead>\n",
       "  <tbody>\n",
       "    <tr>\n",
       "      <th>0</th>\n",
       "      <td>0009655768c64bdeb2e877511632db8f</td>\n",
       "      <td>0</td>\n",
       "      <td>0</td>\n",
       "    </tr>\n",
       "    <tr>\n",
       "      <th>1</th>\n",
       "      <td>00116118485d4dfda04fdbaba9a87b5c</td>\n",
       "      <td>0</td>\n",
       "      <td>0</td>\n",
       "    </tr>\n",
       "    <tr>\n",
       "      <th>2</th>\n",
       "      <td>0020c2b971eb4e9188eac86d93036a77</td>\n",
       "      <td>1</td>\n",
       "      <td>1</td>\n",
       "    </tr>\n",
       "    <tr>\n",
       "      <th>3</th>\n",
       "      <td>0020ccbbb6d84e358d3414a3ff76cffd</td>\n",
       "      <td>1</td>\n",
       "      <td>1</td>\n",
       "    </tr>\n",
       "    <tr>\n",
       "      <th>4</th>\n",
       "      <td>003d66b6608740288d6cc97a6903f4f0</td>\n",
       "      <td>0</td>\n",
       "      <td>1</td>\n",
       "    </tr>\n",
       "  </tbody>\n",
       "</table>\n",
       "</div>"
      ],
      "text/plain": [
       "offer_type                            person  bogo  discount\n",
       "0           0009655768c64bdeb2e877511632db8f     0         0\n",
       "1           00116118485d4dfda04fdbaba9a87b5c     0         0\n",
       "2           0020c2b971eb4e9188eac86d93036a77     1         1\n",
       "3           0020ccbbb6d84e358d3414a3ff76cffd     1         1\n",
       "4           003d66b6608740288d6cc97a6903f4f0     0         1"
      ]
     },
     "execution_count": 13,
     "metadata": {},
     "output_type": "execute_result"
    }
   ],
   "source": [
    "transactions_output.head()"
   ]
  },
  {
   "cell_type": "markdown",
   "id": "a6b95b0a",
   "metadata": {},
   "source": [
    "# Train Model"
   ]
  },
  {
   "cell_type": "code",
   "execution_count": 14,
   "id": "0eed4ace",
   "metadata": {},
   "outputs": [],
   "source": [
    "# Generate X and y arrays\n",
    "labels = transactions_output.drop(columns = 'person').columns\n",
    "X = np.asarray(users_dummies.drop(columns = 'id'))\n",
    "y = np.asarray(transactions_output.drop(columns = 'person'))"
   ]
  },
  {
   "cell_type": "code",
   "execution_count": 15,
   "id": "95b87ec6",
   "metadata": {},
   "outputs": [
    {
     "data": {
      "text/plain": [
       "Index(['bogo', 'discount'], dtype='object', name='offer_type')"
      ]
     },
     "execution_count": 15,
     "metadata": {},
     "output_type": "execute_result"
    }
   ],
   "source": [
    "labels"
   ]
  },
  {
   "cell_type": "code",
   "execution_count": 16,
   "id": "b996acdd",
   "metadata": {},
   "outputs": [],
   "source": [
    "# Split into train and test sets\n",
    "X_train, X_test, y_train, y_test = train_test_split(X, y, test_size = 0.3)"
   ]
  },
  {
   "cell_type": "code",
   "execution_count": 78,
   "id": "ada94aa2",
   "metadata": {},
   "outputs": [],
   "source": [
    "# Set up the multioutput classifier model we will try and optimize with GridSearchCV\n",
    "best_forest = RandomForestClassifier(n_estimators = 20,\n",
    "                                max_depth = 50,\n",
    "                                min_samples_split = 0.1,\n",
    "                                min_samples_leaf = 0.1,\n",
    "                                bootstrap = False,\n",
    "                                max_features = 'auto')\n",
    "\n",
    "best_bayes = MultinomialNB(alpha = 0,\n",
    "                     fit_prior = True)\n",
    "\n",
    "bayes_params = {'estimator__alpha':[0,1,2,10,20,50,100],\n",
    "              'estimator__fit_prior':[True, False]}\n",
    "\n",
    "forest_params = {'estimator__n_estimators':[10,20,30,40,50,75,100],\n",
    "                'estimator__max_depth':[None, 5, 10, 50, 75, 100],\n",
    "                'estimator__min_samples_split':[0.1,0.2,0.3,0.5],\n",
    "                'estimator__min_samples_leaf':[0.1,0.2,0.3,0.5],\n",
    "                'estimator__bootstrap':[True, False],\n",
    "                'estimator__max_features':['auto','sqrt','log2']}\n",
    "\n",
    "model_params = {'estimator': [best_bayes, best_forest]}\n",
    "\n",
    "model = MultiOutputClassifier(estimator = best_bayes)\n",
    "# Optimize for precision. We want to make sure we can take all of our trues seriously.\n",
    "# Because we want to help SBUX minimize wasted coverage\n",
    "# Media mix includes email (dirt cheap), but also social and other ad media that can be expensive CPM\n",
    "# Better to miss some real trues than to target wastefully some fake trues by mistake\n",
    "clf = GridSearchCV(estimator = model, param_grid = model_params, verbose = 2, scoring = 'accuracy')"
   ]
  },
  {
   "cell_type": "code",
   "execution_count": 79,
   "id": "001e004c",
   "metadata": {},
   "outputs": [
    {
     "name": "stdout",
     "output_type": "stream",
     "text": [
      "Fitting 5 folds for each of 2 candidates, totalling 10 fits\n",
      "[CV] END ...................estimator=MultinomialNB(alpha=0); total time=   0.0s\n",
      "[CV] END ...................estimator=MultinomialNB(alpha=0); total time=   0.0s\n",
      "[CV] END ...................estimator=MultinomialNB(alpha=0); total time=   0.0s\n",
      "[CV] END ...................estimator=MultinomialNB(alpha=0); total time=   0.0s\n",
      "[CV] END ...................estimator=MultinomialNB(alpha=0); total time=   0.0s\n",
      "[CV] END estimator=RandomForestClassifier(bootstrap=False, max_depth=50, min_samples_leaf=0.1,\n",
      "                       min_samples_split=0.1, n_estimators=20); total time=   0.0s\n",
      "[CV] END estimator=RandomForestClassifier(bootstrap=False, max_depth=50, min_samples_leaf=0.1,\n",
      "                       min_samples_split=0.1, n_estimators=20); total time=   0.0s\n"
     ]
    },
    {
     "name": "stderr",
     "output_type": "stream",
     "text": [
      "C:\\users\\keele\\onedrive\\projects\\env\\datascience\\lib\\site-packages\\sklearn\\naive_bayes.py:508: UserWarning: alpha too small will result in numeric errors, setting alpha = 1.0e-10\n",
      "  warnings.warn('alpha too small will result in numeric errors, '\n",
      "C:\\users\\keele\\onedrive\\projects\\env\\datascience\\lib\\site-packages\\sklearn\\naive_bayes.py:508: UserWarning: alpha too small will result in numeric errors, setting alpha = 1.0e-10\n",
      "  warnings.warn('alpha too small will result in numeric errors, '\n",
      "C:\\users\\keele\\onedrive\\projects\\env\\datascience\\lib\\site-packages\\sklearn\\naive_bayes.py:508: UserWarning: alpha too small will result in numeric errors, setting alpha = 1.0e-10\n",
      "  warnings.warn('alpha too small will result in numeric errors, '\n",
      "C:\\users\\keele\\onedrive\\projects\\env\\datascience\\lib\\site-packages\\sklearn\\naive_bayes.py:508: UserWarning: alpha too small will result in numeric errors, setting alpha = 1.0e-10\n",
      "  warnings.warn('alpha too small will result in numeric errors, '\n",
      "C:\\users\\keele\\onedrive\\projects\\env\\datascience\\lib\\site-packages\\sklearn\\naive_bayes.py:508: UserWarning: alpha too small will result in numeric errors, setting alpha = 1.0e-10\n",
      "  warnings.warn('alpha too small will result in numeric errors, '\n",
      "C:\\users\\keele\\onedrive\\projects\\env\\datascience\\lib\\site-packages\\sklearn\\naive_bayes.py:508: UserWarning: alpha too small will result in numeric errors, setting alpha = 1.0e-10\n",
      "  warnings.warn('alpha too small will result in numeric errors, '\n",
      "C:\\users\\keele\\onedrive\\projects\\env\\datascience\\lib\\site-packages\\sklearn\\naive_bayes.py:508: UserWarning: alpha too small will result in numeric errors, setting alpha = 1.0e-10\n",
      "  warnings.warn('alpha too small will result in numeric errors, '\n",
      "C:\\users\\keele\\onedrive\\projects\\env\\datascience\\lib\\site-packages\\sklearn\\naive_bayes.py:508: UserWarning: alpha too small will result in numeric errors, setting alpha = 1.0e-10\n",
      "  warnings.warn('alpha too small will result in numeric errors, '\n",
      "C:\\users\\keele\\onedrive\\projects\\env\\datascience\\lib\\site-packages\\sklearn\\naive_bayes.py:508: UserWarning: alpha too small will result in numeric errors, setting alpha = 1.0e-10\n",
      "  warnings.warn('alpha too small will result in numeric errors, '\n",
      "C:\\users\\keele\\onedrive\\projects\\env\\datascience\\lib\\site-packages\\sklearn\\naive_bayes.py:508: UserWarning: alpha too small will result in numeric errors, setting alpha = 1.0e-10\n",
      "  warnings.warn('alpha too small will result in numeric errors, '\n"
     ]
    },
    {
     "name": "stdout",
     "output_type": "stream",
     "text": [
      "[CV] END estimator=RandomForestClassifier(bootstrap=False, max_depth=50, min_samples_leaf=0.1,\n",
      "                       min_samples_split=0.1, n_estimators=20); total time=   0.0s\n",
      "[CV] END estimator=RandomForestClassifier(bootstrap=False, max_depth=50, min_samples_leaf=0.1,\n",
      "                       min_samples_split=0.1, n_estimators=20); total time=   0.0s\n",
      "[CV] END estimator=RandomForestClassifier(bootstrap=False, max_depth=50, min_samples_leaf=0.1,\n",
      "                       min_samples_split=0.1, n_estimators=20); total time=   0.0s\n"
     ]
    },
    {
     "name": "stderr",
     "output_type": "stream",
     "text": [
      "C:\\users\\keele\\onedrive\\projects\\env\\datascience\\lib\\site-packages\\sklearn\\naive_bayes.py:508: UserWarning: alpha too small will result in numeric errors, setting alpha = 1.0e-10\n",
      "  warnings.warn('alpha too small will result in numeric errors, '\n",
      "C:\\users\\keele\\onedrive\\projects\\env\\datascience\\lib\\site-packages\\sklearn\\naive_bayes.py:508: UserWarning: alpha too small will result in numeric errors, setting alpha = 1.0e-10\n",
      "  warnings.warn('alpha too small will result in numeric errors, '\n"
     ]
    },
    {
     "data": {
      "text/plain": [
       "GridSearchCV(estimator=MultiOutputClassifier(estimator=MultinomialNB(alpha=0)),\n",
       "             param_grid={'estimator': [MultinomialNB(alpha=0),\n",
       "                                       RandomForestClassifier(bootstrap=False,\n",
       "                                                              max_depth=50,\n",
       "                                                              min_samples_leaf=0.1,\n",
       "                                                              min_samples_split=0.1,\n",
       "                                                              n_estimators=20)]},\n",
       "             scoring='accuracy', verbose=2)"
      ]
     },
     "execution_count": 79,
     "metadata": {},
     "output_type": "execute_result"
    }
   ],
   "source": [
    "# Run the model with estimator defaults\n",
    "clf.fit(X_train, y_train)"
   ]
  },
  {
   "cell_type": "code",
   "execution_count": 80,
   "id": "4e4a7b99",
   "metadata": {},
   "outputs": [
    {
     "data": {
      "text/plain": [
       "MultiOutputClassifier(estimator=MultinomialNB(alpha=0))"
      ]
     },
     "execution_count": 80,
     "metadata": {},
     "output_type": "execute_result"
    }
   ],
   "source": [
    "clf.best_estimator_"
   ]
  },
  {
   "cell_type": "code",
   "execution_count": 81,
   "id": "89ebee9a",
   "metadata": {},
   "outputs": [
    {
     "data": {
      "text/plain": [
       "0.3916585180815881"
      ]
     },
     "execution_count": 81,
     "metadata": {},
     "output_type": "execute_result"
    }
   ],
   "source": [
    "clf.best_score_"
   ]
  },
  {
   "cell_type": "code",
   "execution_count": 82,
   "id": "cb73342d",
   "metadata": {},
   "outputs": [
    {
     "data": {
      "text/plain": [
       "{'estimator': MultinomialNB(alpha=0)}"
      ]
     },
     "execution_count": 82,
     "metadata": {},
     "output_type": "execute_result"
    }
   ],
   "source": [
    "clf.best_params_"
   ]
  },
  {
   "cell_type": "code",
   "execution_count": 83,
   "id": "9502d049",
   "metadata": {},
   "outputs": [],
   "source": [
    "# Predict y_test using X_test\n",
    "y_pred = clf.predict(X_test)"
   ]
  },
  {
   "cell_type": "code",
   "execution_count": 84,
   "id": "9e23ed7f",
   "metadata": {},
   "outputs": [
    {
     "data": {
      "text/plain": [
       "0.602953074433657"
      ]
     },
     "execution_count": 84,
     "metadata": {},
     "output_type": "execute_result"
    }
   ],
   "source": [
    "# Get accuracy for default estimator run\n",
    "(y_pred == y_test).mean()"
   ]
  },
  {
   "cell_type": "markdown",
   "id": "16f0d319",
   "metadata": {},
   "source": [
    "**Verdict**: Decent accuracy considering data set balance (41/59 and 48/52). Confusion matrices also look better. True positive rate is non-zero. Nice."
   ]
  },
  {
   "cell_type": "markdown",
   "id": "0d3bf4bd",
   "metadata": {},
   "source": [
    "Let's get precision and recall.\n",
    "\n",
    "**Precision:** True Positives / Total Positives\n",
    "- How many of my positive predictions were true?\n",
    "\n",
    "**Recall:** True Positive / (True Pos + False Neg)\n",
    "- How many of the actual positives did I predict?\n",
    "\n",
    "**Confusion Matrix:**\n",
    "\n",
    "TrueNeg, FalsePos\n",
    "\n",
    "FalseNeg, TruePos"
   ]
  },
  {
   "cell_type": "code",
   "execution_count": 50,
   "id": "7cb2a6f7",
   "metadata": {},
   "outputs": [
    {
     "data": {
      "text/plain": [
       "{'bogo': {'precision': 0.5626410835214447, 'recall': 0.4718409843823947},\n",
       " 'discount': {'precision': 0.5703448275862069, 'recall': 0.6854537919602155}}"
      ]
     },
     "execution_count": 50,
     "metadata": {},
     "output_type": "execute_result"
    }
   ],
   "source": [
    "# Score the model\n",
    "score_multioutput(y_pred, y_test, labels)"
   ]
  },
  {
   "cell_type": "code",
   "execution_count": 85,
   "id": "c447f648",
   "metadata": {},
   "outputs": [
    {
     "data": {
      "text/plain": [
       "{'bogo': {'precision': 0.5410447761194029, 'recall': 0.6862281116895409},\n",
       " 'discount': {'precision': 0.5603557814485387, 'recall': 0.7310401989225032}}"
      ]
     },
     "execution_count": 85,
     "metadata": {},
     "output_type": "execute_result"
    }
   ],
   "source": [
    "score_multioutput(y_pred, y_test, labels)"
   ]
  }
 ],
 "metadata": {
  "kernelspec": {
   "display_name": "datascience",
   "language": "python",
   "name": "datascience"
  },
  "language_info": {
   "codemirror_mode": {
    "name": "ipython",
    "version": 3
   },
   "file_extension": ".py",
   "mimetype": "text/x-python",
   "name": "python",
   "nbconvert_exporter": "python",
   "pygments_lexer": "ipython3",
   "version": "3.8.7"
  }
 },
 "nbformat": 4,
 "nbformat_minor": 5
}
